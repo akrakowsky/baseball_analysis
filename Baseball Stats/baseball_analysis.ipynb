{
 "cells": [
  {
   "cell_type": "markdown",
   "id": "78da1ef0",
   "metadata": {},
   "source": [
    "# Baseball Analysis"
   ]
  },
  {
   "cell_type": "code",
   "execution_count": 1,
   "id": "30a86479",
   "metadata": {},
   "outputs": [
    {
     "data": {
      "text/html": [
       "<div>\n",
       "<style scoped>\n",
       "    .dataframe tbody tr th:only-of-type {\n",
       "        vertical-align: middle;\n",
       "    }\n",
       "\n",
       "    .dataframe tbody tr th {\n",
       "        vertical-align: top;\n",
       "    }\n",
       "\n",
       "    .dataframe thead th {\n",
       "        text-align: right;\n",
       "    }\n",
       "</style>\n",
       "<table border=\"1\" class=\"dataframe\">\n",
       "  <thead>\n",
       "    <tr style=\"text-align: right;\">\n",
       "      <th></th>\n",
       "      <th>player_id</th>\n",
       "      <th>birth_country</th>\n",
       "      <th>birth_state</th>\n",
       "      <th>birth_city</th>\n",
       "      <th>name_given</th>\n",
       "      <th>weight</th>\n",
       "      <th>height</th>\n",
       "      <th>bats</th>\n",
       "      <th>throws</th>\n",
       "      <th>debut</th>\n",
       "      <th>final_game</th>\n",
       "    </tr>\n",
       "  </thead>\n",
       "  <tbody>\n",
       "    <tr>\n",
       "      <th>0</th>\n",
       "      <td>aardsda01</td>\n",
       "      <td>USA</td>\n",
       "      <td>CO</td>\n",
       "      <td>Denver</td>\n",
       "      <td>David Allan</td>\n",
       "      <td>220.0</td>\n",
       "      <td>75.0</td>\n",
       "      <td>R</td>\n",
       "      <td>R</td>\n",
       "      <td>4/6/2004</td>\n",
       "      <td>8/23/2015</td>\n",
       "    </tr>\n",
       "    <tr>\n",
       "      <th>1</th>\n",
       "      <td>aaronha01</td>\n",
       "      <td>USA</td>\n",
       "      <td>AL</td>\n",
       "      <td>Mobile</td>\n",
       "      <td>Henry Louis</td>\n",
       "      <td>180.0</td>\n",
       "      <td>72.0</td>\n",
       "      <td>R</td>\n",
       "      <td>R</td>\n",
       "      <td>4/13/1954</td>\n",
       "      <td>10/3/1976</td>\n",
       "    </tr>\n",
       "    <tr>\n",
       "      <th>2</th>\n",
       "      <td>aaronto01</td>\n",
       "      <td>USA</td>\n",
       "      <td>AL</td>\n",
       "      <td>Mobile</td>\n",
       "      <td>Tommie Lee</td>\n",
       "      <td>190.0</td>\n",
       "      <td>75.0</td>\n",
       "      <td>R</td>\n",
       "      <td>R</td>\n",
       "      <td>4/10/1962</td>\n",
       "      <td>9/26/1971</td>\n",
       "    </tr>\n",
       "    <tr>\n",
       "      <th>3</th>\n",
       "      <td>aasedo01</td>\n",
       "      <td>USA</td>\n",
       "      <td>CA</td>\n",
       "      <td>Orange</td>\n",
       "      <td>Donald William</td>\n",
       "      <td>190.0</td>\n",
       "      <td>75.0</td>\n",
       "      <td>R</td>\n",
       "      <td>R</td>\n",
       "      <td>7/26/1977</td>\n",
       "      <td>10/3/1990</td>\n",
       "    </tr>\n",
       "    <tr>\n",
       "      <th>4</th>\n",
       "      <td>abadan01</td>\n",
       "      <td>USA</td>\n",
       "      <td>FL</td>\n",
       "      <td>Palm Beach</td>\n",
       "      <td>Fausto Andres</td>\n",
       "      <td>184.0</td>\n",
       "      <td>73.0</td>\n",
       "      <td>L</td>\n",
       "      <td>L</td>\n",
       "      <td>9/10/2001</td>\n",
       "      <td>4/13/2006</td>\n",
       "    </tr>\n",
       "  </tbody>\n",
       "</table>\n",
       "</div>"
      ],
      "text/plain": [
       "   player_id birth_country birth_state  birth_city      name_given  weight  \\\n",
       "0  aardsda01           USA          CO      Denver     David Allan   220.0   \n",
       "1  aaronha01           USA          AL      Mobile     Henry Louis   180.0   \n",
       "2  aaronto01           USA          AL      Mobile      Tommie Lee   190.0   \n",
       "3   aasedo01           USA          CA      Orange  Donald William   190.0   \n",
       "4   abadan01           USA          FL  Palm Beach   Fausto Andres   184.0   \n",
       "\n",
       "   height bats throws      debut final_game  \n",
       "0    75.0    R      R   4/6/2004  8/23/2015  \n",
       "1    72.0    R      R  4/13/1954  10/3/1976  \n",
       "2    75.0    R      R  4/10/1962  9/26/1971  \n",
       "3    75.0    R      R  7/26/1977  10/3/1990  \n",
       "4    73.0    L      L  9/10/2001  4/13/2006  "
      ]
     },
     "execution_count": 1,
     "metadata": {},
     "output_type": "execute_result"
    }
   ],
   "source": [
    "# Dependencies and Setup\n",
    "import matplotlib.pyplot as plt\n",
    "import pandas as pd\n",
    "import scipy.stats as st\n",
    "import numpy as np\n",
    "\n",
    "# Study data files\n",
    "player_path = \"./player.csv\"\n",
    "batting_path = \"./batting.csv\"\n",
    "pitching_path = \"./pitching.csv\"\n",
    "fielding_path = \"./fielding.csv\"\n",
    "\n",
    "# Read the baseball data and the study results\n",
    "player_data = pd.read_csv(player_path)\n",
    "player_data.head()\n",
    "\n",
    "# Clean player data\n",
    "player_clean = player_data[[\"player_id\", \"birth_country\", \"birth_state\",\n",
    "                          \"birth_city\", \"name_given\", \"weight\", \"height\",\n",
    "                          \"bats\", \"throws\", \"debut\", \"final_game\"]]\n",
    "player_clean.head()"
   ]
  },
  {
   "cell_type": "markdown",
   "id": "1bb24af0",
   "metadata": {},
   "source": [
    "## Bar Graph of Player Birth States "
   ]
  },
  {
   "cell_type": "code",
   "execution_count": 3,
   "id": "90ed9528",
   "metadata": {},
   "outputs": [
    {
     "data": {
      "image/png": "[encoded data removed]",
      "text/plain": [
       "<Figure size 1440x216 with 1 Axes>"
      ]
     },
     "metadata": {
      "needs_background": "light"
     },
     "output_type": "display_data"
    }
   ],
   "source": [
    "# Generate a bar graph of players born in each state(exclude non-US born athletes).\n",
    "player_us = player_data[player_data[\"birth_country\"] == \"USA\"]\n",
    "player_us_year = player_us[player_us[\"birth_year\"] >= 1950]\n",
    "player_us_year\n",
    "\n",
    "# Filter the DataFrame down only to those columns to chart\n",
    "player_us_state = player_us_year[[\"birth_state\",\"player_id\"]]\n",
    "player_us_state\n",
    "\n",
    "# Groupby State\n",
    "player_state = player_us_state.groupby(\"birth_state\").count()\n",
    "player_state\n",
    "\n",
    "# Create a list indicating where to write x labels and set figure size to adjust for space\n",
    "player_state.plot(kind=\"bar\", figsize=(20,3))\n",
    "\n",
    "# Set a Title and labels\n",
    "plt.title(\"Baseball Players Born per State\")\n",
    "plt.xlabel(\"State\")\n",
    "plt.ylabel(\"Amount of Baseball Players\")\n",
    "plt.tight_layout()\n",
    "plt.savefig(\"./birth_state.png\")\n",
    "plt.show()"
   ]
  },
  {
   "cell_type": "markdown",
   "id": "4081ab31",
   "metadata": {},
   "source": [
    "## Should the NL adopt the DH rule?"
   ]
  },
  {
   "cell_type": "code",
   "execution_count": 3,
   "id": "2302e9c3",
   "metadata": {},
   "outputs": [
    {
     "data": {
      "text/html": [
       "<div>\n",
       "<style scoped>\n",
       "    .dataframe tbody tr th:only-of-type {\n",
       "        vertical-align: middle;\n",
       "    }\n",
       "\n",
       "    .dataframe tbody tr th {\n",
       "        vertical-align: top;\n",
       "    }\n",
       "\n",
       "    .dataframe thead th {\n",
       "        text-align: right;\n",
       "    }\n",
       "</style>\n",
       "<table border=\"1\" class=\"dataframe\">\n",
       "  <thead>\n",
       "    <tr style=\"text-align: right;\">\n",
       "      <th></th>\n",
       "      <th>player_id</th>\n",
       "      <th>year</th>\n",
       "      <th>stint</th>\n",
       "      <th>team_id</th>\n",
       "      <th>league_id</th>\n",
       "      <th>g</th>\n",
       "      <th>ab</th>\n",
       "      <th>r</th>\n",
       "      <th>h</th>\n",
       "      <th>double</th>\n",
       "      <th>...</th>\n",
       "      <th>rbi</th>\n",
       "      <th>sb</th>\n",
       "      <th>cs</th>\n",
       "      <th>bb</th>\n",
       "      <th>so</th>\n",
       "      <th>ibb</th>\n",
       "      <th>hbp</th>\n",
       "      <th>sh</th>\n",
       "      <th>sf</th>\n",
       "      <th>g_idp</th>\n",
       "    </tr>\n",
       "  </thead>\n",
       "  <tbody>\n",
       "    <tr>\n",
       "      <th>0</th>\n",
       "      <td>abercda01</td>\n",
       "      <td>1871</td>\n",
       "      <td>1</td>\n",
       "      <td>TRO</td>\n",
       "      <td>NaN</td>\n",
       "      <td>1</td>\n",
       "      <td>4.0</td>\n",
       "      <td>0.0</td>\n",
       "      <td>0.0</td>\n",
       "      <td>0.0</td>\n",
       "      <td>...</td>\n",
       "      <td>0.0</td>\n",
       "      <td>0.0</td>\n",
       "      <td>0.0</td>\n",
       "      <td>0.0</td>\n",
       "      <td>0.0</td>\n",
       "      <td>NaN</td>\n",
       "      <td>NaN</td>\n",
       "      <td>NaN</td>\n",
       "      <td>NaN</td>\n",
       "      <td>NaN</td>\n",
       "    </tr>\n",
       "    <tr>\n",
       "      <th>1</th>\n",
       "      <td>addybo01</td>\n",
       "      <td>1871</td>\n",
       "      <td>1</td>\n",
       "      <td>RC1</td>\n",
       "      <td>NaN</td>\n",
       "      <td>25</td>\n",
       "      <td>118.0</td>\n",
       "      <td>30.0</td>\n",
       "      <td>32.0</td>\n",
       "      <td>6.0</td>\n",
       "      <td>...</td>\n",
       "      <td>13.0</td>\n",
       "      <td>8.0</td>\n",
       "      <td>1.0</td>\n",
       "      <td>4.0</td>\n",
       "      <td>0.0</td>\n",
       "      <td>NaN</td>\n",
       "      <td>NaN</td>\n",
       "      <td>NaN</td>\n",
       "      <td>NaN</td>\n",
       "      <td>NaN</td>\n",
       "    </tr>\n",
       "    <tr>\n",
       "      <th>2</th>\n",
       "      <td>allisar01</td>\n",
       "      <td>1871</td>\n",
       "      <td>1</td>\n",
       "      <td>CL1</td>\n",
       "      <td>NaN</td>\n",
       "      <td>29</td>\n",
       "      <td>137.0</td>\n",
       "      <td>28.0</td>\n",
       "      <td>40.0</td>\n",
       "      <td>4.0</td>\n",
       "      <td>...</td>\n",
       "      <td>19.0</td>\n",
       "      <td>3.0</td>\n",
       "      <td>1.0</td>\n",
       "      <td>2.0</td>\n",
       "      <td>5.0</td>\n",
       "      <td>NaN</td>\n",
       "      <td>NaN</td>\n",
       "      <td>NaN</td>\n",
       "      <td>NaN</td>\n",
       "      <td>NaN</td>\n",
       "    </tr>\n",
       "    <tr>\n",
       "      <th>3</th>\n",
       "      <td>allisdo01</td>\n",
       "      <td>1871</td>\n",
       "      <td>1</td>\n",
       "      <td>WS3</td>\n",
       "      <td>NaN</td>\n",
       "      <td>27</td>\n",
       "      <td>133.0</td>\n",
       "      <td>28.0</td>\n",
       "      <td>44.0</td>\n",
       "      <td>10.0</td>\n",
       "      <td>...</td>\n",
       "      <td>27.0</td>\n",
       "      <td>1.0</td>\n",
       "      <td>1.0</td>\n",
       "      <td>0.0</td>\n",
       "      <td>2.0</td>\n",
       "      <td>NaN</td>\n",
       "      <td>NaN</td>\n",
       "      <td>NaN</td>\n",
       "      <td>NaN</td>\n",
       "      <td>NaN</td>\n",
       "    </tr>\n",
       "    <tr>\n",
       "      <th>4</th>\n",
       "      <td>ansonca01</td>\n",
       "      <td>1871</td>\n",
       "      <td>1</td>\n",
       "      <td>RC1</td>\n",
       "      <td>NaN</td>\n",
       "      <td>25</td>\n",
       "      <td>120.0</td>\n",
       "      <td>29.0</td>\n",
       "      <td>39.0</td>\n",
       "      <td>11.0</td>\n",
       "      <td>...</td>\n",
       "      <td>16.0</td>\n",
       "      <td>6.0</td>\n",
       "      <td>2.0</td>\n",
       "      <td>2.0</td>\n",
       "      <td>1.0</td>\n",
       "      <td>NaN</td>\n",
       "      <td>NaN</td>\n",
       "      <td>NaN</td>\n",
       "      <td>NaN</td>\n",
       "      <td>NaN</td>\n",
       "    </tr>\n",
       "  </tbody>\n",
       "</table>\n",
       "<p>5 rows × 22 columns</p>\n",
       "</div>"
      ],
      "text/plain": [
       "   player_id  year  stint team_id league_id   g     ab     r     h  double  \\\n",
       "0  abercda01  1871      1     TRO       NaN   1    4.0   0.0   0.0     0.0   \n",
       "1   addybo01  1871      1     RC1       NaN  25  118.0  30.0  32.0     6.0   \n",
       "2  allisar01  1871      1     CL1       NaN  29  137.0  28.0  40.0     4.0   \n",
       "3  allisdo01  1871      1     WS3       NaN  27  133.0  28.0  44.0    10.0   \n",
       "4  ansonca01  1871      1     RC1       NaN  25  120.0  29.0  39.0    11.0   \n",
       "\n",
       "   ...   rbi   sb   cs   bb   so  ibb  hbp  sh  sf  g_idp  \n",
       "0  ...   0.0  0.0  0.0  0.0  0.0  NaN  NaN NaN NaN    NaN  \n",
       "1  ...  13.0  8.0  1.0  4.0  0.0  NaN  NaN NaN NaN    NaN  \n",
       "2  ...  19.0  3.0  1.0  2.0  5.0  NaN  NaN NaN NaN    NaN  \n",
       "3  ...  27.0  1.0  1.0  0.0  2.0  NaN  NaN NaN NaN    NaN  \n",
       "4  ...  16.0  6.0  2.0  2.0  1.0  NaN  NaN NaN NaN    NaN  \n",
       "\n",
       "[5 rows x 22 columns]"
      ]
     },
     "execution_count": 3,
     "metadata": {},
     "output_type": "execute_result"
    }
   ],
   "source": [
    "batting_data = pd.read_csv(batting_path)\n",
    "batting_data.head()"
   ]
  },
  {
   "cell_type": "code",
   "execution_count": 45,
   "id": "74e87218",
   "metadata": {},
   "outputs": [
    {
     "data": {
      "image/png": "[encoded data removed]",
      "text/plain": [
       "<Figure size 432x288 with 1 Axes>"
      ]
     },
     "metadata": {
      "needs_background": "light"
     },
     "output_type": "display_data"
    }
   ],
   "source": [
    "# DH rule was adopted by the AL league in 1973. \n",
    "batting_data = batting_data[batting_data[\"year\"] >= 1973]\n",
    "batting_data\n",
    "\n",
    "# Find the batting average and add a new column\n",
    "batting_data[\"ba\"] = \"\"\n",
    "ba = batting_data[\"h\"]/batting_data[\"ab\"]\n",
    "batting_data[\"ba\"] = ba\n",
    "batting_data\n",
    "\n",
    "# Remove NAN\n",
    "batting_data.dropna()\n",
    "\n",
    "# Get the mean batting average per year for the AL\n",
    "batting_al = batting_data[batting_data[\"league_id\"] == \"AL\"]\n",
    "batting_al\n",
    "# Group by year\n",
    "batting_al = batting_al.groupby(\"year\").mean()[\"ba\"]\n",
    "batting_al\n",
    "\n",
    "# Get the mean batting average per year for the NL\n",
    "batting_nl = batting_data[batting_data[\"league_id\"] == \"NL\"]\n",
    "batting_nl\n",
    "# Group by year\n",
    "batting_nl = batting_nl.groupby(\"year\").mean()[\"ba\"]\n",
    "batting_nl\n",
    "\n",
    "# Plot as a line graph\n",
    "x_axis = np.arange(1973,2016,1)\n",
    "# print(x_axis)\n",
    "al_ba, = plt.plot(x_axis, batting_al, color=\"red\", label=\"AL\")\n",
    "nl_ba, = plt.plot(x_axis, batting_nl, color=\"blue\", label=\"NL\")\n",
    "plt.title(\"Batting Average Comparison for NL and AL from 1973-2015\")\n",
    "plt.xlabel(\"Years\")\n",
    "plt.ylabel(\"Batting average\")\n",
    "plt.legend(handles=[al_ba, nl_ba], loc=\"best\")\n",
    "plt.show()"
   ]
  },
  {
   "cell_type": "markdown",
   "id": "15a467ab",
   "metadata": {},
   "source": [
    "### Observation: Overall batting average for the National League is lower then the American League. The American League uses desginated hitters in place of their pitchers batting. This could show the impact of having a hitting focused player in the line-up who replaces the pitcher, who tends to be the weaker batter."
   ]
  },
  {
   "cell_type": "markdown",
   "id": "2820d57b",
   "metadata": {},
   "source": [
    "## Pitching"
   ]
  },
  {
   "cell_type": "markdown",
   "id": "8209d47f",
   "metadata": {},
   "source": [
    "## Has ERA improved over the years? Are there more strikouts?"
   ]
  },
  {
   "cell_type": "code",
   "execution_count": 2,
   "id": "293b5eec",
   "metadata": {},
   "outputs": [
    {
     "data": {
      "text/html": [
       "<div>\n",
       "<style scoped>\n",
       "    .dataframe tbody tr th:only-of-type {\n",
       "        vertical-align: middle;\n",
       "    }\n",
       "\n",
       "    .dataframe tbody tr th {\n",
       "        vertical-align: top;\n",
       "    }\n",
       "\n",
       "    .dataframe thead th {\n",
       "        text-align: right;\n",
       "    }\n",
       "</style>\n",
       "<table border=\"1\" class=\"dataframe\">\n",
       "  <thead>\n",
       "    <tr style=\"text-align: right;\">\n",
       "      <th></th>\n",
       "      <th>player_id</th>\n",
       "      <th>year</th>\n",
       "      <th>stint</th>\n",
       "      <th>team_id</th>\n",
       "      <th>league_id</th>\n",
       "      <th>w</th>\n",
       "      <th>l</th>\n",
       "      <th>g</th>\n",
       "      <th>gs</th>\n",
       "      <th>cg</th>\n",
       "      <th>...</th>\n",
       "      <th>ibb</th>\n",
       "      <th>wp</th>\n",
       "      <th>hbp</th>\n",
       "      <th>bk</th>\n",
       "      <th>bfp</th>\n",
       "      <th>gf</th>\n",
       "      <th>r</th>\n",
       "      <th>sh</th>\n",
       "      <th>sf</th>\n",
       "      <th>g_idp</th>\n",
       "    </tr>\n",
       "  </thead>\n",
       "  <tbody>\n",
       "    <tr>\n",
       "      <th>0</th>\n",
       "      <td>bechtge01</td>\n",
       "      <td>1871</td>\n",
       "      <td>1</td>\n",
       "      <td>PH1</td>\n",
       "      <td>NaN</td>\n",
       "      <td>1</td>\n",
       "      <td>2</td>\n",
       "      <td>3</td>\n",
       "      <td>3</td>\n",
       "      <td>2</td>\n",
       "      <td>...</td>\n",
       "      <td>NaN</td>\n",
       "      <td>NaN</td>\n",
       "      <td>NaN</td>\n",
       "      <td>0</td>\n",
       "      <td>NaN</td>\n",
       "      <td>NaN</td>\n",
       "      <td>42</td>\n",
       "      <td>NaN</td>\n",
       "      <td>NaN</td>\n",
       "      <td>NaN</td>\n",
       "    </tr>\n",
       "    <tr>\n",
       "      <th>1</th>\n",
       "      <td>brainas01</td>\n",
       "      <td>1871</td>\n",
       "      <td>1</td>\n",
       "      <td>WS3</td>\n",
       "      <td>NaN</td>\n",
       "      <td>12</td>\n",
       "      <td>15</td>\n",
       "      <td>30</td>\n",
       "      <td>30</td>\n",
       "      <td>30</td>\n",
       "      <td>...</td>\n",
       "      <td>NaN</td>\n",
       "      <td>NaN</td>\n",
       "      <td>NaN</td>\n",
       "      <td>0</td>\n",
       "      <td>NaN</td>\n",
       "      <td>NaN</td>\n",
       "      <td>292</td>\n",
       "      <td>NaN</td>\n",
       "      <td>NaN</td>\n",
       "      <td>NaN</td>\n",
       "    </tr>\n",
       "    <tr>\n",
       "      <th>2</th>\n",
       "      <td>fergubo01</td>\n",
       "      <td>1871</td>\n",
       "      <td>1</td>\n",
       "      <td>NY2</td>\n",
       "      <td>NaN</td>\n",
       "      <td>0</td>\n",
       "      <td>0</td>\n",
       "      <td>1</td>\n",
       "      <td>0</td>\n",
       "      <td>0</td>\n",
       "      <td>...</td>\n",
       "      <td>NaN</td>\n",
       "      <td>NaN</td>\n",
       "      <td>NaN</td>\n",
       "      <td>0</td>\n",
       "      <td>NaN</td>\n",
       "      <td>NaN</td>\n",
       "      <td>9</td>\n",
       "      <td>NaN</td>\n",
       "      <td>NaN</td>\n",
       "      <td>NaN</td>\n",
       "    </tr>\n",
       "    <tr>\n",
       "      <th>3</th>\n",
       "      <td>fishech01</td>\n",
       "      <td>1871</td>\n",
       "      <td>1</td>\n",
       "      <td>RC1</td>\n",
       "      <td>NaN</td>\n",
       "      <td>4</td>\n",
       "      <td>16</td>\n",
       "      <td>24</td>\n",
       "      <td>24</td>\n",
       "      <td>22</td>\n",
       "      <td>...</td>\n",
       "      <td>NaN</td>\n",
       "      <td>NaN</td>\n",
       "      <td>NaN</td>\n",
       "      <td>0</td>\n",
       "      <td>NaN</td>\n",
       "      <td>NaN</td>\n",
       "      <td>257</td>\n",
       "      <td>NaN</td>\n",
       "      <td>NaN</td>\n",
       "      <td>NaN</td>\n",
       "    </tr>\n",
       "    <tr>\n",
       "      <th>4</th>\n",
       "      <td>fleetfr01</td>\n",
       "      <td>1871</td>\n",
       "      <td>1</td>\n",
       "      <td>NY2</td>\n",
       "      <td>NaN</td>\n",
       "      <td>0</td>\n",
       "      <td>1</td>\n",
       "      <td>1</td>\n",
       "      <td>1</td>\n",
       "      <td>1</td>\n",
       "      <td>...</td>\n",
       "      <td>NaN</td>\n",
       "      <td>NaN</td>\n",
       "      <td>NaN</td>\n",
       "      <td>0</td>\n",
       "      <td>NaN</td>\n",
       "      <td>NaN</td>\n",
       "      <td>21</td>\n",
       "      <td>NaN</td>\n",
       "      <td>NaN</td>\n",
       "      <td>NaN</td>\n",
       "    </tr>\n",
       "  </tbody>\n",
       "</table>\n",
       "<p>5 rows × 30 columns</p>\n",
       "</div>"
      ],
      "text/plain": [
       "   player_id  year  stint team_id league_id   w   l   g  gs  cg  ...  ibb  wp  \\\n",
       "0  bechtge01  1871      1     PH1       NaN   1   2   3   3   2  ...  NaN NaN   \n",
       "1  brainas01  1871      1     WS3       NaN  12  15  30  30  30  ...  NaN NaN   \n",
       "2  fergubo01  1871      1     NY2       NaN   0   0   1   0   0  ...  NaN NaN   \n",
       "3  fishech01  1871      1     RC1       NaN   4  16  24  24  22  ...  NaN NaN   \n",
       "4  fleetfr01  1871      1     NY2       NaN   0   1   1   1   1  ...  NaN NaN   \n",
       "\n",
       "   hbp  bk  bfp  gf    r  sh  sf  g_idp  \n",
       "0  NaN   0  NaN NaN   42 NaN NaN    NaN  \n",
       "1  NaN   0  NaN NaN  292 NaN NaN    NaN  \n",
       "2  NaN   0  NaN NaN    9 NaN NaN    NaN  \n",
       "3  NaN   0  NaN NaN  257 NaN NaN    NaN  \n",
       "4  NaN   0  NaN NaN   21 NaN NaN    NaN  \n",
       "\n",
       "[5 rows x 30 columns]"
      ]
     },
     "execution_count": 2,
     "metadata": {},
     "output_type": "execute_result"
    }
   ],
   "source": [
    "pitching_data = pd.read_csv(pitching_path)\n",
    "pitching_data.head()"
   ]
  },
  {
   "cell_type": "code",
   "execution_count": 3,
   "id": "506a3be3",
   "metadata": {},
   "outputs": [
    {
     "data": {
      "text/plain": [
       "Text(0, 0.5, 'Earned Run Average')"
      ]
     },
     "execution_count": 3,
     "metadata": {},
     "output_type": "execute_result"
    },
    {
     "data": {
      "image/png": "[encoded data removed]",
      "text/plain": [
       "<Figure size 432x288 with 1 Axes>"
      ]
     },
     "metadata": {
      "needs_background": "light"
     },
     "output_type": "display_data"
    }
   ],
   "source": [
    "# Show only more recent pitching starting at 1970 and games played more than 5\n",
    "pitching_clean = pitching_data[pitching_data[\"year\"] >= 1970]\n",
    "pitching_games = pitching_clean[pitching_clean[\"g\"] > 5]\n",
    "pitching_games\n",
    "\n",
    "# Group pitching records by year and average era\n",
    "pitching_era = pitching_games.groupby(\"year\").mean()[\"era\"]\n",
    "pitching_era\n",
    "\n",
    "# Plot as line\n",
    "xaxis = np.arange(1970, 2016, 1)\n",
    "plt.plot(xaxis, pitching_era)\n",
    "plt.title(\"Ptiching ERA from 1970-2015\")\n",
    "plt.xlabel(\"Years\")\n",
    "plt.ylabel(\"Earned Run Average\")"
   ]
  },
  {
   "cell_type": "markdown",
   "id": "56953268",
   "metadata": {},
   "source": [
    "### Observation: Pitching ERA spike in the late 90's. Baseball began to focus on strangth training in the 80s and this could show an benefit of trianing as pitchers gave up more hits. The 90's became known as the \"Steriod Era\" where players used performance enhancing drugs to improve their power. "
   ]
  },
  {
   "cell_type": "code",
   "execution_count": 13,
   "id": "82be9a14",
   "metadata": {},
   "outputs": [
    {
     "data": {
      "image/png": "[encoded data removed]",
      "text/plain": [
       "<Figure size 432x288 with 1 Axes>"
      ]
     },
     "metadata": {
      "needs_background": "light"
     },
     "output_type": "display_data"
    }
   ],
   "source": [
    "# Change in player size over the years\n",
    "import warnings\n",
    "warnings.filterwarnings('ignore')\n",
    "\n",
    "player_data\n",
    "player_data[\"final\"] = pd.to_datetime(player_data['final_game'], format='%Y-%m-%d').dt.year\n",
    "player_data.dropna()\n",
    "\n",
    "# Create scatter plot\n",
    "x_values = player_data[\"final\"]\n",
    "y_values = player_data[\"weight\"]\n",
    "\n",
    "plt.scatter(x_values,y_values)\n",
    "plt.xlabel(\"Year\")\n",
    "plt.ylabel(\"Weight of Player (lbs)\")\n",
    "plt.title(\"Baseball Player Weight Over the Years\")\n",
    "plt.show()\n"
   ]
  },
  {
   "cell_type": "code",
   "execution_count": 14,
   "id": "a4c7501a",
   "metadata": {},
   "outputs": [
    {
     "data": {
      "image/png": "[encoded data removed]",
      "text/plain": [
       "<Figure size 432x288 with 1 Axes>"
      ]
     },
     "metadata": {
      "needs_background": "light"
     },
     "output_type": "display_data"
    }
   ],
   "source": [
    "# Create scatter plot\n",
    "x_values = player_data[\"final\"]\n",
    "y_values2 = player_data[\"height\"]\n",
    "\n",
    "plt.scatter(x_values,y_values2)\n",
    "plt.xlabel(\"Year\")\n",
    "plt.ylabel(\"Height of Player (inches)\")\n",
    "plt.title(\"Baseball Player Height Over the Years\")\n",
    "plt.show()\n",
    "\n"
   ]
  },
  {
   "cell_type": "markdown",
   "id": "80490cd1",
   "metadata": {},
   "source": [
    "### Observation: There appears to be a trend for increased height and weight in baseball players over the years, but this can be a result of general population size increase.\n"
   ]
  },
  {
   "cell_type": "markdown",
   "id": "4fb788f6",
   "metadata": {},
   "source": [
    "## Total Errors by Position"
   ]
  },
  {
   "cell_type": "code",
   "execution_count": 5,
   "id": "a6206195",
   "metadata": {},
   "outputs": [
    {
     "data": {
      "text/plain": [
       "Text(0, 0.5, 'Total Errors')"
      ]
     },
     "execution_count": 5,
     "metadata": {},
     "output_type": "execute_result"
    },
    {
     "data": {
      "image/png": "[encoded data removed]",
      "text/plain": [
       "<Figure size 432x288 with 1 Axes>"
      ]
     },
     "metadata": {
      "needs_background": "light"
     },
     "output_type": "display_data"
    }
   ],
   "source": [
    "# Import the fielding data\n",
    "fielding_data = pd.read_csv(fielding_path)\n",
    "fielding_data\n",
    "\n",
    "# Only show data from 1970 and remove position DH(hitter only)\n",
    "fielding_data = fielding_data [fielding_data[\"year\"] >= 1970]\n",
    "fielding_data = fielding_data[fielding_data[\"pos\"] != \"DH\"]\n",
    "fielding_data\n",
    "\n",
    "# Combine by position and find the most errors\n",
    "err_data = fielding_data[fielding_data[\"g\"] != 0]\n",
    "err_data = err_data.groupby(\"pos\").sum()[\"e\"]\n",
    "err_data.sort_values()\n",
    "\n",
    "# Plot the data as a bar chart\n",
    "err_data.plot(kind = \"bar\", color = \"blue\", alpha = 0.8, align =\"center\")\n",
    "\n",
    "# Add labels\n",
    "plt.title(\"Total Erros by Position from 1970-2015\")\n",
    "plt.xlabel(\"Position\")\n",
    "plt.ylabel(\"Total Errors\")\n"
   ]
  },
  {
   "cell_type": "markdown",
   "id": "e2954ada",
   "metadata": {},
   "source": [
    "### Observation: Shortstops and 3rd Base have the most errors and individual outfield positions(RF, LF, CF) have the least. This is expected as SS and 3rd base have more attempts at fielding than other positions."
   ]
  },
  {
   "cell_type": "markdown",
   "id": "bca98dfa",
   "metadata": {},
   "source": [
    "## Do players with more years played have better fielding percentage?"
   ]
  },
  {
   "cell_type": "code",
   "execution_count": 18,
   "id": "4113add3",
   "metadata": {},
   "outputs": [
    {
     "data": {
      "image/png": "[encoded data removed]",
      "text/plain": [
       "<Figure size 648x648 with 9 Axes>"
      ]
     },
     "metadata": {
      "needs_background": "light"
     },
     "output_type": "display_data"
    }
   ],
   "source": [
    "import warnings\n",
    "warnings.filterwarnings('ignore')\n",
    "\n",
    "# Find the total years played\n",
    "player_clean[\"started\"] = pd.to_datetime(player_clean['debut'], format='%Y-%m-%d').dt.year\n",
    "player_clean[\"final\"] = pd.to_datetime(player_clean['final_game'], format='%Y-%m-%d').dt.year\n",
    "years_played = player_clean[\"final\"] - player_clean[\"started\"]\n",
    "player_clean[\"years_played\"] = years_played\n",
    "player_clean\n",
    "\n",
    "# Merge the data\n",
    "new_field = pd.merge(fielding_data, player_clean, on=\"player_id\")\n",
    "new_field\n",
    "\n",
    "# Find the fielding percentage(FP = (put out + attempts)/(put outs + attempts + errors))\n",
    "# Create a new column for fielding percentage\n",
    "new_field[\"FP\"] = \"\"\n",
    "new_field\n",
    "new_field[\"FP\"] = (new_field[\"po\"] + new_field[\"a\"])/(new_field[\"po\"] + new_field[\"a\"] + new_field[\"e\"])\n",
    "\n",
    "# Remove players that had less than 5 games played\n",
    "new_field = new_field[new_field[\"g\"]> 5]\n",
    "new_field = new_field.groupby([\"pos\", \"years_played\"]).mean()[[\"FP\"]]\n",
    "new_field = new_field.reset_index(level=['pos', 'years_played'])\n",
    "positions = ['1B', '2B', '3B', 'C', 'CF', 'LF', 'P', 'RF', 'SS']\n",
    "new_field\n",
    "\n",
    "# Create a scatter plot\n",
    "fig, axes = plt.subplots(nrows=3, ncols=3, sharex = True, sharey = True, figsize=(9, 9))\n",
    "fig.text(0.5, 0.04, 'Years Played', ha='center')\n",
    "fig.text(0.04, 0.5, 'Fielding Percentage', va='center', rotation='vertical')\n",
    "axes = axes.ravel()\n",
    "for i in range(9):\n",
    "    data = new_field[new_field[\"pos\"] == positions[i]]\n",
    "    axes[i].scatter(data[\"years_played\"], data[\"FP\"])\n",
    "    axes[i].set_xlim(0,30)\n",
    "    axes[i].set_ylim(0.75, 1.03)\n",
    "    axes[i].set_title(\"Position: \" + positions[i])"
   ]
  },
  {
   "cell_type": "markdown",
   "id": "f48ecd41",
   "metadata": {},
   "source": [
    "### Observation: At this level of competition, the average fielding percentage does not vary much for amount of time spent playing professional baseball. Fielding percentages remain fairly consistent across all positions."
   ]
  },
  {
   "cell_type": "code",
   "execution_count": null,
   "id": "fda58d94",
   "metadata": {},
   "outputs": [],
   "source": []
  }
 ],
 "metadata": {
  "kernelspec": {
   "display_name": "Python 3",
   "language": "python",
   "name": "python3"
  },
  "language_info": {
   "codemirror_mode": {
    "name": "ipython",
    "version": 3
   },
   "file_extension": ".py",
   "mimetype": "text/x-python",
   "name": "python",
   "nbconvert_exporter": "python",
   "pygments_lexer": "ipython3",
   "version": "3.8.8"
  }
 },
 "nbformat": 4,
 "nbformat_minor": 5
}
